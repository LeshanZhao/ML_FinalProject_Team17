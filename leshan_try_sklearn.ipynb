{
 "cells": [
  {
   "cell_type": "code",
   "execution_count": 7,
   "metadata": {},
   "outputs": [],
   "source": [
    "from sklearn.neural_network import MLPClassifier\n",
    "from sklearn.metrics import accuracy_score, confusion_matrix, classification_report\n",
    "\n",
    "import numpy as np\n",
    "import pandas as pd\n",
    "\n",
    "import data_opener"
   ]
  },
  {
   "cell_type": "code",
   "execution_count": null,
   "metadata": {},
   "outputs": [],
   "source": [
    "data = data_opener.get_data()\n",
    "# Max corr is .5, so correlation not going to be used for feature selection\n",
    "corr_matrix = data.corr()\n",
    "#print(corr_matrix)\n",
    "\n",
    "X_train, X_test, X_val, y_train, y_test, y_val = data_opener.train_test_val_split(data)\n"
   ]
  },
  {
   "cell_type": "code",
   "execution_count": 176,
   "metadata": {},
   "outputs": [],
   "source": [
    "n_samples = len(y_train)\n",
    "# n_samples = 10000\n",
    "# n_samples = 20000\n",
    "X_try = X_train.head(n_samples)\n",
    "y_try = y_train.head(n_samples)"
   ]
  },
  {
   "cell_type": "code",
   "execution_count": 175,
   "metadata": {},
   "outputs": [],
   "source": [
    "# Xc = pd.concat([X_train, X_test, X_val])\n",
    "# yc = pd.concat([y_train, y_test, y_val])\n",
    "# X_try = Xc\n",
    "# y_try = yc"
   ]
  },
  {
   "cell_type": "code",
   "execution_count": 177,
   "metadata": {},
   "outputs": [
    {
     "name": "stdout",
     "output_type": "stream",
     "text": [
      "done\n"
     ]
    }
   ],
   "source": [
    "clf = MLPClassifier(solver = 'adam', hidden_layer_sizes=(8), random_state=1,  activation = 'relu', max_iter = 10000)\n",
    "\n",
    "clf.fit(X_try, y_try)\n",
    "\n",
    "print('done')"
   ]
  },
  {
   "cell_type": "code",
   "execution_count": null,
   "metadata": {},
   "outputs": [],
   "source": [
    "y_pred = clf.predict(X_test)\n",
    "print(accuracy_score(y_test, y_pred)*100)\n",
    "cm = confusion_matrix(y_test, y_pred)\n",
    "print(cm,'\\n')\n",
    "classification_report(y_test, y_pred)"
   ]
  },
  {
   "cell_type": "code",
   "execution_count": 171,
   "metadata": {},
   "outputs": [
    {
     "name": "stdout",
     "output_type": "stream",
     "text": [
      "72.88809523809525\n",
      "[[16366  4717]\n",
      " [ 6670 14247]] \n",
      "\n"
     ]
    },
    {
     "data": {
      "text/plain": [
       "'              precision    recall  f1-score   support\\n\\n         0.0       0.71      0.78      0.74     21083\\n         1.0       0.75      0.68      0.71     20917\\n\\n    accuracy                           0.73     42000\\n   macro avg       0.73      0.73      0.73     42000\\nweighted avg       0.73      0.73      0.73     42000\\n'"
      ]
     },
     "execution_count": 171,
     "metadata": {},
     "output_type": "execute_result"
    }
   ],
   "source": [
    "y_pred = clf.predict(X_train)\n",
    "print(accuracy_score(y_train, y_pred)*100)\n",
    "cm = confusion_matrix(y_train, y_pred)\n",
    "print(cm,'\\n')\n",
    "classification_report(y_train, y_pred)"
   ]
  }
 ],
 "metadata": {
  "kernelspec": {
   "display_name": "Python 3.10.1 64-bit",
   "language": "python",
   "name": "python3"
  },
  "language_info": {
   "codemirror_mode": {
    "name": "ipython",
    "version": 3
   },
   "file_extension": ".py",
   "mimetype": "text/x-python",
   "name": "python",
   "nbconvert_exporter": "python",
   "pygments_lexer": "ipython3",
   "version": "3.10.1"
  },
  "orig_nbformat": 4,
  "vscode": {
   "interpreter": {
    "hash": "23df60a54607d347e031d49868c92248a09c44b3ac715a89ec2cdbd92691ffb7"
   }
  }
 },
 "nbformat": 4,
 "nbformat_minor": 2
}
