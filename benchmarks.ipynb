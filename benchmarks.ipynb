{
 "cells": [
  {
   "cell_type": "code",
   "execution_count": 7,
   "metadata": {},
   "outputs": [],
   "source": [
    "from sklearn.neural_network import MLPClassifier\n",
    "from sklearn.linear_model import SGDClassifier  # i.e., logistic regression when let loss = \"log\"\n",
    "from sklearn.linear_model import Perceptron\n",
    "from sklearn.metrics import accuracy_score, confusion_matrix, classification_report\n",
    "from cross_validation import cross_validation\n",
    "import numpy as np\n",
    "import pandas as pd\n",
    "\n",
    "import data_opener"
   ]
  },
  {
   "cell_type": "code",
   "execution_count": 8,
   "metadata": {},
   "outputs": [],
   "source": [
    "data = data_opener.get_data()\n",
    "# Max corr is .5, so correlation not going to be used for feature selection\n",
    "corr_matrix = data.corr()\n",
    "#print(corr_matrix)\n",
    "\n",
    "X_train, X_test, X_val, y_train, y_test, y_val = data_opener.train_test_val_split(data)\n"
   ]
  },
  {
   "cell_type": "code",
   "execution_count": 9,
   "metadata": {},
   "outputs": [],
   "source": [
    "n_samples = len(y_train)\n",
    "# n_samples = 100\n",
    "n_samples = 1000\n",
    "# n_samples = 10000\n",
    "# n_samples = 20000\n",
    "# n_samples = 42000\n",
    "\n",
    "X_train = X_train.head(n_samples)\n",
    "y_train = y_train.head(n_samples)"
   ]
  },
  {
   "cell_type": "markdown",
   "metadata": {},
   "source": [
    "### Using MLP in sklearn"
   ]
  },
  {
   "cell_type": "code",
   "execution_count": 13,
   "metadata": {},
   "outputs": [
    {
     "name": "stdout",
     "output_type": "stream",
     "text": [
      "sklearn MLP training done\n"
     ]
    }
   ],
   "source": [
    "clf_MLP = MLPClassifier(solver = 'sgd', \n",
    "                        hidden_layer_sizes=(8), \n",
    "                        random_state=1,  \n",
    "                        activation = 'relu', \n",
    "                        max_iter = 10000, \n",
    "                        alpha = 0.0001)\n",
    "\n",
    "clf_MLP.fit(X_train, y_train)\n",
    "\n",
    "print('sklearn MLP training done')"
   ]
  },
  {
   "cell_type": "code",
   "execution_count": 16,
   "metadata": {},
   "outputs": [
    {
     "name": "stdout",
     "output_type": "stream",
     "text": [
      "Test accuracy using sklearn.mlp: =================\n",
      "\n",
      "Accuracy:\t0.5690714285714286\n",
      "ErrorRate:\t0.43092857142857144\n",
      "Precision:\t0.5801771533292609\n",
      "Recall:\t0.5363546519836228\n",
      "\n",
      "Confusion matrix:\n",
      "\t\t\tPositive\tNegative\t\n",
      "pred_pos\t3799\t\t\t2749\t\n",
      "pred_neg\t3284\t\t\t4168\t\n",
      "\n"
     ]
    }
   ],
   "source": [
    "print(\"Test accuracy using sklearn.mlp: =================\\n\")\n",
    "y_pred_mlp = clf_MLP.predict(X_test)\n",
    "\n",
    "cv = cross_validation()\n",
    "stats_mlp = cv.print_stat(y_test, y_pred_mlp)\n",
    "print(stats_mlp[0])\n",
    "print(stats_mlp[1])"
   ]
  },
  {
   "cell_type": "code",
   "execution_count": 171,
   "metadata": {},
   "outputs": [
    {
     "name": "stdout",
     "output_type": "stream",
     "text": [
      "72.88809523809525\n",
      "[[16366  4717]\n",
      " [ 6670 14247]] \n",
      "\n"
     ]
    },
    {
     "data": {
      "text/plain": [
       "'              precision    recall  f1-score   support\\n\\n         0.0       0.71      0.78      0.74     21083\\n         1.0       0.75      0.68      0.71     20917\\n\\n    accuracy                           0.73     42000\\n   macro avg       0.73      0.73      0.73     42000\\nweighted avg       0.73      0.73      0.73     42000\\n'"
      ]
     },
     "execution_count": 171,
     "metadata": {},
     "output_type": "execute_result"
    }
   ],
   "source": [
    "# y_pred = clf.predict(X_train)\n",
    "# print(accuracy_score(y_train, y_pred)*100)\n",
    "# cm = confusion_matrix(y_train, y_pred)\n",
    "# print(cm,'\\n')\n",
    "# classification_report(y_train, y_pred)"
   ]
  },
  {
   "cell_type": "markdown",
   "metadata": {},
   "source": [
    "### Using Perceptron in sklearn"
   ]
  },
  {
   "cell_type": "code",
   "execution_count": 19,
   "metadata": {},
   "outputs": [
    {
     "name": "stdout",
     "output_type": "stream",
     "text": [
      "sklearn Perceptron training done\n"
     ]
    }
   ],
   "source": [
    "clf_Perceptron = Perceptron(alpha = 0.00001, \n",
    "                            fit_intercept=True, # i.e., bias\n",
    "                            max_iter=1000,\n",
    "                            shuffle=True)\n",
    "clf_Perceptron.fit(X_train, y_train)\n",
    "print('sklearn Perceptron training done')"
   ]
  },
  {
   "cell_type": "code",
   "execution_count": 20,
   "metadata": {},
   "outputs": [
    {
     "name": "stdout",
     "output_type": "stream",
     "text": [
      "Test accuracy using sklearn.Perceptron: =================\n",
      "\n",
      "Accuracy:\t0.5266428571428572\n",
      "ErrorRate:\t0.4733571428571428\n",
      "Precision:\t0.7645011600928074\n",
      "Recall:\t0.09303967245517436\n",
      "\n",
      "Confusion matrix:\n",
      "\t\t\tPositive\tNegative\t\n",
      "pred_pos\t659\t\t\t203\t\n",
      "pred_neg\t6424\t\t\t6714\t\n",
      "\n"
     ]
    }
   ],
   "source": [
    "print(\"Test accuracy using sklearn.Perceptron: =================\\n\")\n",
    "y_pred_perceptron = clf_Perceptron.predict(X_test)\n",
    "\n",
    "cv = cross_validation()\n",
    "stats_perceptron = cv.print_stat(y_test, y_pred_perceptron)\n",
    "print(stats_perceptron[0])\n",
    "print(stats_perceptron[1])"
   ]
  },
  {
   "cell_type": "code",
   "execution_count": null,
   "metadata": {},
   "outputs": [],
   "source": []
  },
  {
   "cell_type": "markdown",
   "metadata": {},
   "source": [
    "### Using Logistic Regresion in sklearn"
   ]
  },
  {
   "cell_type": "code",
   "execution_count": 22,
   "metadata": {},
   "outputs": [
    {
     "ename": "TypeError",
     "evalue": "LogisticRegression.__init__() got an unexpected keyword argument 'alpha'",
     "output_type": "error",
     "traceback": [
      "\u001b[1;31m---------------------------------------------------------------------------\u001b[0m",
      "\u001b[1;31mTypeError\u001b[0m                                 Traceback (most recent call last)",
      "Cell \u001b[1;32mIn [22], line 1\u001b[0m\n\u001b[1;32m----> 1\u001b[0m clf_Logistic \u001b[39m=\u001b[39m LogisticRegression(solver\u001b[39m=\u001b[39m\u001b[39m\"\u001b[39m\u001b[39msag\u001b[39m\u001b[39m\"\u001b[39m, \n\u001b[0;32m      2\u001b[0m                                 fit_intercept\u001b[39m=\u001b[39m\u001b[39mTrue\u001b[39;00m, \n\u001b[0;32m      3\u001b[0m                                 max_iter\u001b[39m=\u001b[39m\u001b[39m1000\u001b[39m,\n\u001b[0;32m      4\u001b[0m                                 alpha \u001b[39m=\u001b[39m \u001b[39m0.00001\u001b[39m)\n\u001b[0;32m      5\u001b[0m clf_Logistic\u001b[39m.\u001b[39mfit(X_train, y_train)\n",
      "\u001b[1;31mTypeError\u001b[0m: LogisticRegression.__init__() got an unexpected keyword argument 'alpha'"
     ]
    }
   ],
   "source": [
    "clf_Logistic = SGDClassifier(loss=\"log_loss\",       # this makes it a logistic regression\n",
    "                            alpha=0.00001,\n",
    "                            max_iter=1000,\n",
    "                            fit_intercept=True)\n",
    "clf_Logistic.fit(X_train, y_train)"
   ]
  },
  {
   "cell_type": "code",
   "execution_count": null,
   "metadata": {},
   "outputs": [],
   "source": [
    "print(\"Test accuracy using sklearn.Perceptron: =================\\n\")\n",
    "y_pred_perceptron = clf_Perceptron.predict(X_test)\n",
    "\n",
    "cv = cross_validation()\n",
    "stats_perceptron = cv.print_stat(y_test, y_pred_perceptron)\n",
    "print(stats_perceptron[0])\n",
    "print(stats_perceptron[1])"
   ]
  }
 ],
 "metadata": {
  "kernelspec": {
   "display_name": "Python 3.10.1 64-bit",
   "language": "python",
   "name": "python3"
  },
  "language_info": {
   "codemirror_mode": {
    "name": "ipython",
    "version": 3
   },
   "file_extension": ".py",
   "mimetype": "text/x-python",
   "name": "python",
   "nbconvert_exporter": "python",
   "pygments_lexer": "ipython3",
   "version": "3.10.1"
  },
  "orig_nbformat": 4,
  "vscode": {
   "interpreter": {
    "hash": "23df60a54607d347e031d49868c92248a09c44b3ac715a89ec2cdbd92691ffb7"
   }
  }
 },
 "nbformat": 4,
 "nbformat_minor": 2
}
