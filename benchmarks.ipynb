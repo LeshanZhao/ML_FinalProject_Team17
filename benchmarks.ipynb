{
 "cells": [
  {
   "cell_type": "code",
   "execution_count": 24,
   "metadata": {},
   "outputs": [],
   "source": [
    "from sklearn.neural_network import MLPClassifier\n",
    "from sklearn.linear_model import SGDClassifier  # i.e., logistic regression when let loss = \"log\"\n",
    "from sklearn.linear_model import Perceptron\n",
    "from sklearn.metrics import accuracy_score, confusion_matrix, classification_report\n",
    "from cross_validation import cross_validation\n",
    "import numpy as np\n",
    "import pandas as pd\n",
    "\n",
    "import data_opener"
   ]
  },
  {
   "cell_type": "code",
   "execution_count": 8,
   "metadata": {},
   "outputs": [],
   "source": [
    "data = data_opener.get_data()\n",
    "# Max corr is .5, so correlation not going to be used for feature selection\n",
    "corr_matrix = data.corr()\n",
    "#print(corr_matrix)\n",
    "\n",
    "X_train, X_test, X_val, y_train, y_test, y_val = data_opener.train_test_val_split(data)\n"
   ]
  },
  {
   "cell_type": "code",
   "execution_count": 30,
   "metadata": {},
   "outputs": [],
   "source": [
    "n_samples = len(y_train)\n",
    "# n_samples = 100\n",
    "n_samples = 1000\n",
    "# n_samples = 10000\n",
    "# n_samples = 20000\n",
    "# n_samples = 42000\n",
    "\n",
    "X_train = X_train.head(n_samples)\n",
    "y_train = y_train.head(n_samples)"
   ]
  },
  {
   "cell_type": "markdown",
   "metadata": {},
   "source": [
    "### Using MLP in sklearn"
   ]
  },
  {
   "cell_type": "code",
   "execution_count": 31,
   "metadata": {},
   "outputs": [
    {
     "name": "stdout",
     "output_type": "stream",
     "text": [
      "sklearn MLP training done\n"
     ]
    }
   ],
   "source": [
    "clf_MLP = MLPClassifier(solver = 'sgd', \n",
    "                        hidden_layer_sizes=(8), \n",
    "                        random_state=1,  \n",
    "                        activation = 'relu', \n",
    "                        max_iter = 1000, \n",
    "                        alpha = 0.0001)\n",
    "\n",
    "clf_MLP.fit(X_train, y_train)\n",
    "\n",
    "print('sklearn MLP training done')"
   ]
  },
  {
   "cell_type": "code",
   "execution_count": 32,
   "metadata": {},
   "outputs": [
    {
     "name": "stdout",
     "output_type": "stream",
     "text": [
      "Test accuracy using sklearn.mlp: =================\n",
      "\n",
      "Accuracy:\t0.4862142857142857\n",
      "ErrorRate:\t0.5137857142857143\n",
      "Precision:\t0.4921451013996001\n",
      "Recall:\t0.48651701256529717\n",
      "\n",
      "Confusion matrix:\n",
      "\t\t\tPositive\tNegative\t\n",
      "pred_pos\t3446\t\t\t3556\t\n",
      "pred_neg\t3637\t\t\t3361\t\n",
      "\n"
     ]
    }
   ],
   "source": [
    "print(\"Test accuracy using sklearn.mlp: =================\\n\")\n",
    "y_pred_mlp = clf_MLP.predict(X_test)\n",
    "\n",
    "cv = cross_validation()\n",
    "stats_mlp = cv.print_stat(y_test, y_pred_mlp)\n",
    "print(stats_mlp[0])\n",
    "print(stats_mlp[1])"
   ]
  },
  {
   "cell_type": "code",
   "execution_count": 27,
   "metadata": {},
   "outputs": [],
   "source": [
    "# y_pred = clf.predict(X_train)\n",
    "# print(accuracy_score(y_train, y_pred)*100)\n",
    "# cm = confusion_matrix(y_train, y_pred)\n",
    "# print(cm,'\\n')\n",
    "# classification_report(y_train, y_pred)"
   ]
  },
  {
   "cell_type": "markdown",
   "metadata": {},
   "source": [
    "### Using Perceptron in sklearn"
   ]
  },
  {
   "cell_type": "code",
   "execution_count": 19,
   "metadata": {},
   "outputs": [
    {
     "name": "stdout",
     "output_type": "stream",
     "text": [
      "sklearn Perceptron training done\n"
     ]
    }
   ],
   "source": [
    "clf_Perceptron = Perceptron(alpha = 0.00001, \n",
    "                            fit_intercept=True, # i.e., bias\n",
    "                            max_iter=1000,\n",
    "                            shuffle=True)\n",
    "clf_Perceptron.fit(X_train, y_train)\n",
    "print('sklearn Perceptron training done')"
   ]
  },
  {
   "cell_type": "code",
   "execution_count": 20,
   "metadata": {},
   "outputs": [
    {
     "name": "stdout",
     "output_type": "stream",
     "text": [
      "Test accuracy using sklearn.Perceptron: =================\n",
      "\n",
      "Accuracy:\t0.5266428571428572\n",
      "ErrorRate:\t0.4733571428571428\n",
      "Precision:\t0.7645011600928074\n",
      "Recall:\t0.09303967245517436\n",
      "\n",
      "Confusion matrix:\n",
      "\t\t\tPositive\tNegative\t\n",
      "pred_pos\t659\t\t\t203\t\n",
      "pred_neg\t6424\t\t\t6714\t\n",
      "\n"
     ]
    }
   ],
   "source": [
    "print(\"Test accuracy using sklearn.Perceptron: =================\\n\")\n",
    "y_pred_perceptron = clf_Perceptron.predict(X_test)\n",
    "\n",
    "cv = cross_validation()\n",
    "stats_perceptron = cv.print_stat(y_test, y_pred_perceptron)\n",
    "print(stats_perceptron[0])\n",
    "print(stats_perceptron[1])"
   ]
  },
  {
   "cell_type": "markdown",
   "metadata": {},
   "source": [
    "### Using Logistic Regresion in sklearn"
   ]
  },
  {
   "cell_type": "code",
   "execution_count": 25,
   "metadata": {},
   "outputs": [
    {
     "data": {
      "text/html": [
       "<style>#sk-container-id-1 {color: black;background-color: white;}#sk-container-id-1 pre{padding: 0;}#sk-container-id-1 div.sk-toggleable {background-color: white;}#sk-container-id-1 label.sk-toggleable__label {cursor: pointer;display: block;width: 100%;margin-bottom: 0;padding: 0.3em;box-sizing: border-box;text-align: center;}#sk-container-id-1 label.sk-toggleable__label-arrow:before {content: \"▸\";float: left;margin-right: 0.25em;color: #696969;}#sk-container-id-1 label.sk-toggleable__label-arrow:hover:before {color: black;}#sk-container-id-1 div.sk-estimator:hover label.sk-toggleable__label-arrow:before {color: black;}#sk-container-id-1 div.sk-toggleable__content {max-height: 0;max-width: 0;overflow: hidden;text-align: left;background-color: #f0f8ff;}#sk-container-id-1 div.sk-toggleable__content pre {margin: 0.2em;color: black;border-radius: 0.25em;background-color: #f0f8ff;}#sk-container-id-1 input.sk-toggleable__control:checked~div.sk-toggleable__content {max-height: 200px;max-width: 100%;overflow: auto;}#sk-container-id-1 input.sk-toggleable__control:checked~label.sk-toggleable__label-arrow:before {content: \"▾\";}#sk-container-id-1 div.sk-estimator input.sk-toggleable__control:checked~label.sk-toggleable__label {background-color: #d4ebff;}#sk-container-id-1 div.sk-label input.sk-toggleable__control:checked~label.sk-toggleable__label {background-color: #d4ebff;}#sk-container-id-1 input.sk-hidden--visually {border: 0;clip: rect(1px 1px 1px 1px);clip: rect(1px, 1px, 1px, 1px);height: 1px;margin: -1px;overflow: hidden;padding: 0;position: absolute;width: 1px;}#sk-container-id-1 div.sk-estimator {font-family: monospace;background-color: #f0f8ff;border: 1px dotted black;border-radius: 0.25em;box-sizing: border-box;margin-bottom: 0.5em;}#sk-container-id-1 div.sk-estimator:hover {background-color: #d4ebff;}#sk-container-id-1 div.sk-parallel-item::after {content: \"\";width: 100%;border-bottom: 1px solid gray;flex-grow: 1;}#sk-container-id-1 div.sk-label:hover label.sk-toggleable__label {background-color: #d4ebff;}#sk-container-id-1 div.sk-serial::before {content: \"\";position: absolute;border-left: 1px solid gray;box-sizing: border-box;top: 0;bottom: 0;left: 50%;z-index: 0;}#sk-container-id-1 div.sk-serial {display: flex;flex-direction: column;align-items: center;background-color: white;padding-right: 0.2em;padding-left: 0.2em;position: relative;}#sk-container-id-1 div.sk-item {position: relative;z-index: 1;}#sk-container-id-1 div.sk-parallel {display: flex;align-items: stretch;justify-content: center;background-color: white;position: relative;}#sk-container-id-1 div.sk-item::before, #sk-container-id-1 div.sk-parallel-item::before {content: \"\";position: absolute;border-left: 1px solid gray;box-sizing: border-box;top: 0;bottom: 0;left: 50%;z-index: -1;}#sk-container-id-1 div.sk-parallel-item {display: flex;flex-direction: column;z-index: 1;position: relative;background-color: white;}#sk-container-id-1 div.sk-parallel-item:first-child::after {align-self: flex-end;width: 50%;}#sk-container-id-1 div.sk-parallel-item:last-child::after {align-self: flex-start;width: 50%;}#sk-container-id-1 div.sk-parallel-item:only-child::after {width: 0;}#sk-container-id-1 div.sk-dashed-wrapped {border: 1px dashed gray;margin: 0 0.4em 0.5em 0.4em;box-sizing: border-box;padding-bottom: 0.4em;background-color: white;}#sk-container-id-1 div.sk-label label {font-family: monospace;font-weight: bold;display: inline-block;line-height: 1.2em;}#sk-container-id-1 div.sk-label-container {text-align: center;}#sk-container-id-1 div.sk-container {/* jupyter's `normalize.less` sets `[hidden] { display: none; }` but bootstrap.min.css set `[hidden] { display: none !important; }` so we also need the `!important` here to be able to override the default hidden behavior on the sphinx rendered scikit-learn.org. See: https://github.com/scikit-learn/scikit-learn/issues/21755 */display: inline-block !important;position: relative;}#sk-container-id-1 div.sk-text-repr-fallback {display: none;}</style><div id=\"sk-container-id-1\" class=\"sk-top-container\"><div class=\"sk-text-repr-fallback\"><pre>SGDClassifier(alpha=1e-05, loss=&#x27;log_loss&#x27;)</pre><b>In a Jupyter environment, please rerun this cell to show the HTML representation or trust the notebook. <br />On GitHub, the HTML representation is unable to render, please try loading this page with nbviewer.org.</b></div><div class=\"sk-container\" hidden><div class=\"sk-item\"><div class=\"sk-estimator sk-toggleable\"><input class=\"sk-toggleable__control sk-hidden--visually\" id=\"sk-estimator-id-1\" type=\"checkbox\" checked><label for=\"sk-estimator-id-1\" class=\"sk-toggleable__label sk-toggleable__label-arrow\">SGDClassifier</label><div class=\"sk-toggleable__content\"><pre>SGDClassifier(alpha=1e-05, loss=&#x27;log_loss&#x27;)</pre></div></div></div></div></div>"
      ],
      "text/plain": [
       "SGDClassifier(alpha=1e-05, loss='log_loss')"
      ]
     },
     "execution_count": 25,
     "metadata": {},
     "output_type": "execute_result"
    }
   ],
   "source": [
    "clf_Logistic = SGDClassifier(loss=\"log_loss\",       # this makes it a logistic regression\n",
    "                            alpha=0.00001,\n",
    "                            max_iter=1000,\n",
    "                            fit_intercept=True)\n",
    "clf_Logistic.fit(X_train, y_train)"
   ]
  },
  {
   "cell_type": "code",
   "execution_count": 33,
   "metadata": {},
   "outputs": [
    {
     "name": "stdout",
     "output_type": "stream",
     "text": [
      "Test accuracy using sklearn.Logistic: =================\n",
      "\n",
      "Accuracy:\t0.5712142857142857\n",
      "ErrorRate:\t0.4287857142857143\n",
      "Precision:\t0.7267002518891688\n",
      "Recall:\t0.24438797119864464\n",
      "\n",
      "Confusion matrix:\n",
      "\t\t\tPositive\tNegative\t\n",
      "pred_pos\t1731\t\t\t651\t\n",
      "pred_neg\t5352\t\t\t6266\t\n",
      "\n"
     ]
    }
   ],
   "source": [
    "print(\"Test accuracy using sklearn.Logistic: =================\\n\")\n",
    "y_pred_logistic = clf_Logistic.predict(X_test)\n",
    "\n",
    "cv = cross_validation()\n",
    "stats_logistic = cv.print_stat(y_test, y_pred_logistic)\n",
    "print(stats_logistic[0])\n",
    "print(stats_logistic[1])"
   ]
  }
 ],
 "metadata": {
  "kernelspec": {
   "display_name": "Python 3.10.1 64-bit",
   "language": "python",
   "name": "python3"
  },
  "language_info": {
   "codemirror_mode": {
    "name": "ipython",
    "version": 3
   },
   "file_extension": ".py",
   "mimetype": "text/x-python",
   "name": "python",
   "nbconvert_exporter": "python",
   "pygments_lexer": "ipython3",
   "version": "3.10.1"
  },
  "orig_nbformat": 4,
  "vscode": {
   "interpreter": {
    "hash": "23df60a54607d347e031d49868c92248a09c44b3ac715a89ec2cdbd92691ffb7"
   }
  }
 },
 "nbformat": 4,
 "nbformat_minor": 2
}
